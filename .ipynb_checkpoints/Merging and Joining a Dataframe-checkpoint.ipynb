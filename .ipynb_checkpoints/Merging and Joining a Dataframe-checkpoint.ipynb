{
 "cells": [
  {
   "cell_type": "markdown",
   "metadata": {
    "colab_type": "text",
    "id": "n6iyDbBB53qq"
   },
   "source": [
    "## Merging and Joining a Dataframe\n",
    "\n"
   ]
  },
  {
   "cell_type": "markdown",
   "metadata": {
    "colab_type": "text",
    "id": "_Uhh_LjN_pL3"
   },
   "source": [
    "### Merge the given data frames by 'ID' and 'Subject'"
   ]
  },
  {
   "cell_type": "code",
   "execution_count": 20,
   "metadata": {
    "colab": {
     "base_uri": "https://localhost:8080/",
     "height": 221
    },
    "colab_type": "code",
    "id": "1k-4cd92_N8F",
    "outputId": "5e21744d-4a4f-471d-9571-f24e84e4c309"
   },
   "outputs": [
    {
     "name": "stdout",
     "output_type": "stream",
     "text": [
      "    ID    Name  Subject\n",
      "0  101    Alex    Maths\n",
      "1  102     Amy  English\n",
      "2  103   Allen  Science\n",
      "3  104   Alice   German\n",
      "4  105  Ayoung  History\n",
      "    ID   Name         Subject\n",
      "0  101  Billy         English\n",
      "1  102  Brian         Science\n",
      "2  103   Bran  Social Science\n",
      "3  104  Bryce          German\n",
      "4  105  Betty         History\n"
     ]
    }
   ],
   "source": [
    "df1 = pd.DataFrame({\n",
    "   'ID':[101,102,103,104,105],\n",
    "   'Name': ['Alex', 'Amy', 'Allen', 'Alice', 'Ayoung'],\n",
    "   'Subject':['Maths','English','Science','German','History']})\n",
    "print(df1)\n",
    "df2 = pd.DataFrame(\n",
    "   {'ID':[101,102,103,104,105],\n",
    "   'Name': ['Billy', 'Brian', 'Bran', 'Bryce', 'Betty'],\n",
    "   'Subject':['English','Science','Social Science','German','History']})\n",
    "print(df2)"
   ]
  },
  {
   "cell_type": "code",
   "execution_count": null,
   "metadata": {},
   "outputs": [],
   "source": [
    "# Write the code here\n"
   ]
  },
  {
   "cell_type": "markdown",
   "metadata": {
    "colab_type": "text",
    "id": "LhI0nRxJESlC"
   },
   "source": [
    "## Join"
   ]
  },
  {
   "cell_type": "markdown",
   "metadata": {
    "colab_type": "text",
    "id": "qws5C2b_EgPL"
   },
   "source": [
    "### Write a code to JOIN(inner) data1 & data2 as data11."
   ]
  },
  {
   "cell_type": "code",
   "execution_count": 0,
   "metadata": {
    "colab": {},
    "colab_type": "code",
    "id": "f6tKcLU8EVHb"
   },
   "outputs": [],
   "source": [
    "data1 = pd.DataFrame({'SALARY_YEAR1': ['1000', '2000', '3000', '4000'],\n",
    "                     'SALARY_YEAR2': ['2000', '4000', '6000', '8000']},\n",
    "                    index= ['2101', '2102', '2103', '2104'])\n",
    "   \n",
    "data2 = pd.DataFrame({'SALARY_YEAR3': ['3000', '6000', '12000', '16000'],\n",
    "                          'SALARY_YEAR4': ['4000', '8000', '15000', '30000']},\n",
    "                      index= ['2101', '2106', '2103', '2104'])"
   ]
  },
  {
   "cell_type": "code",
   "execution_count": null,
   "metadata": {},
   "outputs": [],
   "source": [
    "# Write the code here\n"
   ]
  }
 ],
 "metadata": {
  "colab": {
   "collapsed_sections": [],
   "name": "Pandas.ipynb",
   "provenance": []
  },
  "kernelspec": {
   "display_name": "Python 3",
   "language": "python",
   "name": "python3"
  },
  "language_info": {
   "codemirror_mode": {
    "name": "ipython",
    "version": 3
   },
   "file_extension": ".py",
   "mimetype": "text/x-python",
   "name": "python",
   "nbconvert_exporter": "python",
   "pygments_lexer": "ipython3",
   "version": "3.7.3"
  }
 },
 "nbformat": 4,
 "nbformat_minor": 1
}

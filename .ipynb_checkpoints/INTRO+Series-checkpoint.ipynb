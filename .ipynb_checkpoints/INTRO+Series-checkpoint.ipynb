{
 "cells": [
  {
   "cell_type": "code",
   "execution_count": 1,
   "id": "554dce16-d597-41dd-b6cf-8bb65b55bf67",
   "metadata": {},
   "outputs": [],
   "source": [
    "# Introduction to panadas\n",
    "\n",
    "#Pandas: Pandas is a popular open source library in python, used for data manupulation and data analysis.\n",
    "#Pandas provide data structure and function to manupulate large sets of data, panadas is most help for data scientist and analytics\n",
    "#pandas allows us to read, write and work with different types of data\n",
    "#It has high performance as it is built top of numpy library \n",
    "\n",
    "#Types of data structures in pandas\n",
    "#DataFrame: A two-dimensional labeled data structure similar to a spreadsheet or SQL table. It consists of rows and columns, where each column can have a different data type (e.g., integer, float, string).\n",
    "#DataFrames can be thought of as a dictionary of Series objects.\n",
    "\n",
    "#Series: A one-dimensional labeled array capable of holding data of any type (integer, float, string, etc.). It's like a single column of a DataFrame.\n",
    "\n"
   ]
  },
  {
   "cell_type": "code",
   "execution_count": 2,
   "id": "d6259bbc-d915-4edc-87d1-8fd05a935d77",
   "metadata": {},
   "outputs": [
    {
     "data": {
      "text/plain": [
       "0      1\n",
       "1      6\n",
       "2     11\n",
       "3     16\n",
       "4     21\n",
       "5     26\n",
       "6     31\n",
       "7     36\n",
       "8     41\n",
       "9     46\n",
       "10    51\n",
       "11    56\n",
       "12    61\n",
       "13    66\n",
       "14    71\n",
       "15    76\n",
       "16    81\n",
       "17    86\n",
       "18    91\n",
       "19    96\n",
       "dtype: int64"
      ]
     },
     "execution_count": 2,
     "metadata": {},
     "output_type": "execute_result"
    }
   ],
   "source": [
    "# Data-structures \n",
    "\n",
    "#series\n",
    "# Data stored in single column with index\n",
    "\n",
    "import pandas as pd\n",
    "numbers=range(1,100,5)\n",
    "pd.Series(numbers)"
   ]
  },
  {
   "cell_type": "code",
   "execution_count": 3,
   "id": "5d57a5e4-9ec6-480a-8a6f-b5d0bd0f8e79",
   "metadata": {},
   "outputs": [
    {
     "data": {
      "text/plain": [
       "0      hey\n",
       "1      how\n",
       "2    hello\n",
       "3      why\n",
       "dtype: object"
      ]
     },
     "execution_count": 3,
     "metadata": {},
     "output_type": "execute_result"
    }
   ],
   "source": [
    "string=\"hey\",\"how\",\"hello\",\"why\"\n",
    "pd.Series(string)"
   ]
  },
  {
   "cell_type": "code",
   "execution_count": 4,
   "id": "8b94f818-8d06-42aa-bf73-b8d88b812102",
   "metadata": {},
   "outputs": [
    {
     "data": {
      "text/plain": [
       "0     hey\n",
       "1       1\n",
       "2    30.2\n",
       "3    -225\n",
       "4    read\n",
       "dtype: object"
      ]
     },
     "execution_count": 4,
     "metadata": {},
     "output_type": "execute_result"
    }
   ],
   "source": [
    "# A series can have hetrogenous data types, but as a series it has only one data type but not multiple\n",
    "\n",
    "list1=[\"hey\",1,30.2,-225,\"read\"]\n",
    "pd.Series(list1)"
   ]
  },
  {
   "cell_type": "code",
   "execution_count": 6,
   "id": "7ba38159-75b5-4d14-9f2f-547d4bb07f39",
   "metadata": {},
   "outputs": [
    {
     "data": {
      "text/plain": [
       "english    25\n",
       "maths      22\n",
       "kannada    13\n",
       "hindi       9\n",
       "dtype: int64"
      ]
     },
     "execution_count": 6,
     "metadata": {},
     "output_type": "execute_result"
    }
   ],
   "source": [
    "#to set index values for a series\n",
    "#here for the series the we have indexed with subject names, but series will be in integer data type itself\n",
    "marks=[25,22,13,9]\n",
    "subject=[\"english\",\"maths\",\"kannada\",\"hindi\"]\n",
    "pd.Series(marks,index=subject)\n"
   ]
  },
  {
   "cell_type": "code",
   "execution_count": 7,
   "id": "9f00c2ae-e988-4dd2-b1ad-d09335184f6f",
   "metadata": {},
   "outputs": [
    {
     "data": {
      "text/plain": [
       "maths      80\n",
       "english    56\n",
       "social     86\n",
       "dtype: int64"
      ]
     },
     "execution_count": 7,
     "metadata": {},
     "output_type": "execute_result"
    }
   ],
   "source": [
    "# instead of passing two lists to set value for index in series, we can take help of dictonary\n",
    "#the values in dict will be stored as key value, here key will index and value is series of data\n",
    "\n",
    "dict1={\"maths\":80,\"english\":56,\"social\":86}\n",
    "pd.Series(dict1)"
   ]
  },
  {
   "cell_type": "code",
   "execution_count": 9,
   "id": "fe69743f-762f-44b8-aa65-c46a492dac55",
   "metadata": {},
   "outputs": [
    {
     "data": {
      "text/plain": [
       "maths     80.0\n",
       "social    86.0\n",
       "arts       NaN\n",
       "dtype: float64"
      ]
     },
     "execution_count": 9,
     "metadata": {},
     "output_type": "execute_result"
    }
   ],
   "source": [
    "#series with missing values\n",
    "\n",
    "new_subject=[\"maths\",\"social\",\"arts\"]\n",
    "pd.Series(dict1,index=new_subject)"
   ]
  },
  {
   "cell_type": "code",
   "execution_count": null,
   "id": "0307e4d1-cb80-4ba4-8bbf-a88cb5511811",
   "metadata": {},
   "outputs": [],
   "source": []
  }
 ],
 "metadata": {
  "kernelspec": {
   "display_name": "Python 3 (ipykernel)",
   "language": "python",
   "name": "python3"
  },
  "language_info": {
   "codemirror_mode": {
    "name": "ipython",
    "version": 3
   },
   "file_extension": ".py",
   "mimetype": "text/x-python",
   "name": "python",
   "nbconvert_exporter": "python",
   "pygments_lexer": "ipython3",
   "version": "3.11.4"
  }
 },
 "nbformat": 4,
 "nbformat_minor": 5
}

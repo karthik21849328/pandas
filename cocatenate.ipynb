{
 "cells": [
  {
   "cell_type": "code",
   "execution_count": null,
   "id": "263c3ff0-4565-4d80-9f6f-420cf7b2a7dd",
   "metadata": {},
   "outputs": [],
   "source": [
    "# In this module we are going to discuss concatenation of series and dataframe \n",
    "\n",
    "#what is concatenation? -----> In genral concatenation means joining two series one fater the other or joining data frame "
   ]
  },
  {
   "cell_type": "code",
   "execution_count": 9,
   "id": "47968205-a767-4303-8407-50e4189fd7df",
   "metadata": {},
   "outputs": [
    {
     "name": "stdout",
     "output_type": "stream",
     "text": [
      "series  rowid\n",
      "a       0        101\n",
      "        1        102\n",
      "        2        103\n",
      "        3        104\n",
      "b       0        105\n",
      "        1        106\n",
      "        2        107\n",
      "        3        108\n",
      "dtype: int64\n"
     ]
    }
   ],
   "source": [
    "# CONCATENATION OF SERIES -- index of two different series will remain same \n",
    "import pandas as pd \n",
    "series1=pd.Series([101,102,103,104])\n",
    "series2=pd.Series([105,106,107,108])\n",
    "\n",
    "concatenation_of_series=pd.concat([series1,series2],keys=[\"a\",\"b\"], names=['series','rowid'])\n",
    "print(concatenation_of_series)\n",
    "\n"
   ]
  },
  {
   "cell_type": "code",
   "execution_count": 45,
   "id": "d3064244-377d-4f62-806d-985e9c0a6881",
   "metadata": {},
   "outputs": [
    {
     "name": "stdout",
     "output_type": "stream",
     "text": [
      "----- \n",
      "        names  company  salary\n",
      "101  karthik    byjus   64000\n",
      "102    allen  amaxzon   50000\n",
      "103     abhi   google   65000\n",
      "104     alec    akash   56000 \n",
      "\n",
      "\n",
      "second data frame \n",
      "       names    company  salary\n",
      "101     ram        jsw   50000\n",
      "102  rakesh  kirloskar   25000\n",
      "103    alex        slk   30000\n",
      "104      om  accenture   45000 \n",
      "\n",
      "\n",
      "       names    company  salary\n",
      "101  karthik      byjus   64000\n",
      "102    allen    amaxzon   50000\n",
      "103     abhi     google   65000\n",
      "104     alec      akash   56000\n",
      "101      ram        jsw   50000\n",
      "102   rakesh  kirloskar   25000\n",
      "103     alex        slk   30000\n",
      "104       om  accenture   45000\n"
     ]
    }
   ],
   "source": [
    "# CONCATENATION OF DATA FRAMES \n",
    "\n",
    "df_1=pd.DataFrame({\n",
    "    \"names\":[\"karthik\",\"allen\",\"abhi\",\"alec\"],\n",
    "    \"company\":[\"byjus\",\"amaxzon\",\"google\",\"akash\"],\n",
    "    \"salary\":[64000,50000,65000,56000]},\n",
    "               index=[101,102,103,104])\n",
    "\n",
    "df_2=pd.DataFrame({\n",
    "    \"names\":[\"ram\",\"rakesh\",\"alex\",\"om\"],\n",
    "    \"company\":[\"jsw\",\"kirloskar\",\"slk\",\"accenture\"],\n",
    "    \"salary\":[50000,25000,30000,45000]\n",
    "},index=[101,102,103,104])\n",
    "\n",
    "\n",
    "print(\"----- \\n\",df_1,\"\\n\\n\")\n",
    "print(\"second data frame \\n\",df_2,\"\\n\\n\")\n",
    "\n",
    "\n",
    "# if we want to concatenate two data frame vereticlaly then by default axis=0\n",
    "\n",
    "df_3=pd.concat([df_1,df_2],axis=0)\n",
    "print(df_3)\n",
    "\n"
   ]
  },
  {
   "cell_type": "code",
   "execution_count": 47,
   "id": "96ff6dec-0aaa-4c24-9c15-24c0d8788f7d",
   "metadata": {},
   "outputs": [
    {
     "name": "stdout",
     "output_type": "stream",
     "text": [
      "       names  company  salary   names    company  salary\n",
      "101  karthik    byjus   64000     ram        jsw   50000\n",
      "102    allen  amaxzon   50000  rakesh  kirloskar   25000\n",
      "103     abhi   google   65000    alex        slk   30000\n",
      "104     alec    akash   56000      om  accenture   45000\n"
     ]
    }
   ],
   "source": [
    "# if we want to concatennate data frames horizonatlly the axis=1\n",
    "df_3=pd.concat([df_1,df_2],axis=1)\n",
    "print(df_3)"
   ]
  },
  {
   "cell_type": "code",
   "execution_count": 46,
   "id": "04bd8049-04e9-4046-a2fb-b17f28873212",
   "metadata": {},
   "outputs": [
    {
     "name": "stdout",
     "output_type": "stream",
     "text": [
      "     names    company  salary\n",
      "0  karthik      byjus   64000\n",
      "1    allen    amaxzon   50000\n",
      "2     abhi     google   65000\n",
      "3     alec      akash   56000\n",
      "4      ram        jsw   50000\n",
      "5   rakesh  kirloskar   25000\n",
      "6     alex        slk   30000\n",
      "7       om  accenture   45000\n"
     ]
    }
   ],
   "source": [
    "# after concatenating the two data frames vertically, but default it will be having the assigned index, \n",
    "#but if we want to have index continusly in proper order\n",
    "\n",
    "df_3=pd.concat([df_1,df_2],axis=0,ignore_index=True)\n",
    "print(df_3)"
   ]
  },
  {
   "cell_type": "code",
   "execution_count": 53,
   "id": "59dc3838-0f31-40ec-927e-5a8739e80446",
   "metadata": {},
   "outputs": [
    {
     "ename": "AttributeError",
     "evalue": "'DataFrame' object has no attribute 'append'",
     "output_type": "error",
     "traceback": [
      "\u001b[1;31m---------------------------------------------------------------------------\u001b[0m",
      "\u001b[1;31mAttributeError\u001b[0m                            Traceback (most recent call last)",
      "\u001b[1;32m~\\AppData\\Local\\Temp\\ipykernel_20284\\3031734000.py\u001b[0m in \u001b[0;36m?\u001b[1;34m()\u001b[0m\n\u001b[0;32m      1\u001b[0m \u001b[1;31m# we can concatenate two data frame with the help of .append()\u001b[0m\u001b[1;33m\u001b[0m\u001b[1;33m\u001b[0m\u001b[0m\n\u001b[0;32m      2\u001b[0m \u001b[1;33m\u001b[0m\u001b[0m\n\u001b[1;32m----> 3\u001b[1;33m \u001b[0mdf_1\u001b[0m\u001b[1;33m.\u001b[0m\u001b[0mappend\u001b[0m\u001b[1;33m(\u001b[0m\u001b[0mdf_2\u001b[0m\u001b[1;33m)\u001b[0m\u001b[1;33m\u001b[0m\u001b[1;33m\u001b[0m\u001b[0m\n\u001b[0m",
      "\u001b[1;32m~\\PycharmProjects\\wwk4\\venv\\Lib\\site-packages\\pandas\\core\\generic.py\u001b[0m in \u001b[0;36m?\u001b[1;34m(self, name)\u001b[0m\n\u001b[0;32m   6200\u001b[0m             \u001b[1;32mand\u001b[0m \u001b[0mname\u001b[0m \u001b[1;32mnot\u001b[0m \u001b[1;32min\u001b[0m \u001b[0mself\u001b[0m\u001b[1;33m.\u001b[0m\u001b[0m_accessors\u001b[0m\u001b[1;33m\u001b[0m\u001b[1;33m\u001b[0m\u001b[0m\n\u001b[0;32m   6201\u001b[0m             \u001b[1;32mand\u001b[0m \u001b[0mself\u001b[0m\u001b[1;33m.\u001b[0m\u001b[0m_info_axis\u001b[0m\u001b[1;33m.\u001b[0m\u001b[0m_can_hold_identifiers_and_holds_name\u001b[0m\u001b[1;33m(\u001b[0m\u001b[0mname\u001b[0m\u001b[1;33m)\u001b[0m\u001b[1;33m\u001b[0m\u001b[1;33m\u001b[0m\u001b[0m\n\u001b[0;32m   6202\u001b[0m         ):\n\u001b[0;32m   6203\u001b[0m             \u001b[1;32mreturn\u001b[0m \u001b[0mself\u001b[0m\u001b[1;33m[\u001b[0m\u001b[0mname\u001b[0m\u001b[1;33m]\u001b[0m\u001b[1;33m\u001b[0m\u001b[1;33m\u001b[0m\u001b[0m\n\u001b[1;32m-> 6204\u001b[1;33m         \u001b[1;32mreturn\u001b[0m \u001b[0mobject\u001b[0m\u001b[1;33m.\u001b[0m\u001b[0m__getattribute__\u001b[0m\u001b[1;33m(\u001b[0m\u001b[0mself\u001b[0m\u001b[1;33m,\u001b[0m \u001b[0mname\u001b[0m\u001b[1;33m)\u001b[0m\u001b[1;33m\u001b[0m\u001b[1;33m\u001b[0m\u001b[0m\n\u001b[0m",
      "\u001b[1;31mAttributeError\u001b[0m: 'DataFrame' object has no attribute 'append'"
     ]
    }
   ],
   "source": [
    "# we can concatenate two data frame with the help of .append()\n",
    "\n",
    "# df_1.append(df_2)  throwing error\n"
   ]
  },
  {
   "cell_type": "code",
   "execution_count": null,
   "id": "751e5888-e819-41df-a412-8c04c2acffd3",
   "metadata": {},
   "outputs": [],
   "source": []
  }
 ],
 "metadata": {
  "kernelspec": {
   "display_name": "Python 3 (ipykernel)",
   "language": "python",
   "name": "python3"
  },
  "language_info": {
   "codemirror_mode": {
    "name": "ipython",
    "version": 3
   },
   "file_extension": ".py",
   "mimetype": "text/x-python",
   "name": "python",
   "nbconvert_exporter": "python",
   "pygments_lexer": "ipython3",
   "version": "3.11.4"
  }
 },
 "nbformat": 4,
 "nbformat_minor": 5
}

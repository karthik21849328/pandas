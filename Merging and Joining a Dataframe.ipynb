{
 "cells": [
  {
   "cell_type": "markdown",
   "metadata": {
    "colab_type": "text",
    "id": "n6iyDbBB53qq"
   },
   "source": [
    "## Merging and Joining a Dataframe\n",
    "\n"
   ]
  },
  {
   "cell_type": "markdown",
   "metadata": {
    "colab_type": "text",
    "id": "_Uhh_LjN_pL3"
   },
   "source": [
    "### Merge the given data frames by 'ID' and 'Subject'"
   ]
  },
  {
   "cell_type": "code",
   "execution_count": 3,
   "metadata": {
    "colab": {
     "base_uri": "https://localhost:8080/",
     "height": 221
    },
    "colab_type": "code",
    "id": "1k-4cd92_N8F",
    "outputId": "5e21744d-4a4f-471d-9571-f24e84e4c309"
   },
   "outputs": [
    {
     "name": "stdout",
     "output_type": "stream",
     "text": [
      "    ID    Name  Subject\n",
      "0  101    Alex    Maths\n",
      "1  102     Amy  English\n",
      "2  103   Allen  Science\n",
      "3  104   Alice   German\n",
      "4  105  Ayoung  History\n",
      "    ID   Name         Subject\n",
      "0  101  Billy         English\n",
      "1  102  Brian         Science\n",
      "2  103   Bran  Social Science\n",
      "3  104  Bryce          German\n",
      "4  105  Betty         History\n"
     ]
    }
   ],
   "source": [
    "df1 = pd.DataFrame({\n",
    "   'ID':[101,102,103,104,105],\n",
    "   'Name': ['Alex', 'Amy', 'Allen', 'Alice', 'Ayoung'],\n",
    "   'Subject':['Maths','English','Science','German','History']})\n",
    "print(df1)\n",
    "df2 = pd.DataFrame(\n",
    "   {'ID':[101,102,103,104,105],\n",
    "   'Name': ['Billy', 'Brian', 'Bran', 'Bryce', 'Betty'],\n",
    "   'Subject':['English','Science','Social Science','German','History']})\n",
    "print(df2)"
   ]
  },
  {
   "cell_type": "code",
   "execution_count": 12,
   "metadata": {},
   "outputs": [
    {
     "data": {
      "text/html": [
       "<div>\n",
       "<style scoped>\n",
       "    .dataframe tbody tr th:only-of-type {\n",
       "        vertical-align: middle;\n",
       "    }\n",
       "\n",
       "    .dataframe tbody tr th {\n",
       "        vertical-align: top;\n",
       "    }\n",
       "\n",
       "    .dataframe thead th {\n",
       "        text-align: right;\n",
       "    }\n",
       "</style>\n",
       "<table border=\"1\" class=\"dataframe\">\n",
       "  <thead>\n",
       "    <tr style=\"text-align: right;\">\n",
       "      <th></th>\n",
       "      <th>ID</th>\n",
       "      <th>Name_df1</th>\n",
       "      <th>Subject</th>\n",
       "      <th>Name_df2</th>\n",
       "    </tr>\n",
       "  </thead>\n",
       "  <tbody>\n",
       "    <tr>\n",
       "      <th>0</th>\n",
       "      <td>101</td>\n",
       "      <td>Alex</td>\n",
       "      <td>Maths</td>\n",
       "      <td>NaN</td>\n",
       "    </tr>\n",
       "    <tr>\n",
       "      <th>1</th>\n",
       "      <td>102</td>\n",
       "      <td>Amy</td>\n",
       "      <td>English</td>\n",
       "      <td>NaN</td>\n",
       "    </tr>\n",
       "    <tr>\n",
       "      <th>2</th>\n",
       "      <td>103</td>\n",
       "      <td>Allen</td>\n",
       "      <td>Science</td>\n",
       "      <td>NaN</td>\n",
       "    </tr>\n",
       "    <tr>\n",
       "      <th>3</th>\n",
       "      <td>104</td>\n",
       "      <td>Alice</td>\n",
       "      <td>German</td>\n",
       "      <td>Bryce</td>\n",
       "    </tr>\n",
       "    <tr>\n",
       "      <th>4</th>\n",
       "      <td>105</td>\n",
       "      <td>Ayoung</td>\n",
       "      <td>History</td>\n",
       "      <td>Betty</td>\n",
       "    </tr>\n",
       "    <tr>\n",
       "      <th>5</th>\n",
       "      <td>101</td>\n",
       "      <td>NaN</td>\n",
       "      <td>English</td>\n",
       "      <td>Billy</td>\n",
       "    </tr>\n",
       "    <tr>\n",
       "      <th>6</th>\n",
       "      <td>102</td>\n",
       "      <td>NaN</td>\n",
       "      <td>Science</td>\n",
       "      <td>Brian</td>\n",
       "    </tr>\n",
       "    <tr>\n",
       "      <th>7</th>\n",
       "      <td>103</td>\n",
       "      <td>NaN</td>\n",
       "      <td>Social Science</td>\n",
       "      <td>Bran</td>\n",
       "    </tr>\n",
       "  </tbody>\n",
       "</table>\n",
       "</div>"
      ],
      "text/plain": [
       "    ID Name_df1         Subject Name_df2\n",
       "0  101     Alex           Maths      NaN\n",
       "1  102      Amy         English      NaN\n",
       "2  103    Allen         Science      NaN\n",
       "3  104    Alice          German    Bryce\n",
       "4  105   Ayoung         History    Betty\n",
       "5  101      NaN         English    Billy\n",
       "6  102      NaN         Science    Brian\n",
       "7  103      NaN  Social Science     Bran"
      ]
     },
     "execution_count": 12,
     "metadata": {},
     "output_type": "execute_result"
    }
   ],
   "source": [
    "# Write the code here\n",
    "import pandas as pd\n",
    "\n",
    "pd.merge(df1,df2,on=['ID','Subject'],how=\"outer\",suffixes=('_df1', '_df2'))"
   ]
  },
  {
   "cell_type": "markdown",
   "metadata": {
    "colab_type": "text",
    "id": "LhI0nRxJESlC"
   },
   "source": [
    "## Join"
   ]
  },
  {
   "cell_type": "markdown",
   "metadata": {
    "colab_type": "text",
    "id": "qws5C2b_EgPL"
   },
   "source": [
    "### Write a code to JOIN(inner) data1 & data2 as data11."
   ]
  },
  {
   "cell_type": "code",
   "execution_count": 14,
   "metadata": {
    "colab": {},
    "colab_type": "code",
    "id": "f6tKcLU8EVHb"
   },
   "outputs": [],
   "source": [
    "data1 = pd.DataFrame({'SALARY_YEAR1': ['1000', '2000', '3000', '4000'],\n",
    "                     'SALARY_YEAR2': ['2000', '4000', '6000', '8000']},\n",
    "                    index= ['2101', '2102', '2103', '2104'])\n",
    "   \n",
    "data2 = pd.DataFrame({'SALARY_YEAR3': ['3000', '6000', '12000', '16000'],\n",
    "                          'SALARY_YEAR4': ['4000', '8000', '15000', '30000']},\n",
    "                      index= ['2101', '2106', '2103', '2104'])"
   ]
  },
  {
   "cell_type": "code",
   "execution_count": 20,
   "metadata": {},
   "outputs": [
    {
     "name": "stdout",
     "output_type": "stream",
     "text": [
      "     SALARY_YEAR1 SALARY_YEAR2 SALARY_YEAR3 SALARY_YEAR4\n",
      "2101         1000         2000         3000         4000\n",
      "2103         3000         6000        12000        15000\n",
      "2104         4000         8000        16000        30000\n"
     ]
    }
   ],
   "source": [
    "# Write the code here\n",
    "\n",
    "\n",
    "data11=data1.join(data2,how='inner')\n",
    "print(data11)"
   ]
  },
  {
   "cell_type": "code",
   "execution_count": null,
   "metadata": {},
   "outputs": [],
   "source": []
  }
 ],
 "metadata": {
  "colab": {
   "collapsed_sections": [],
   "name": "Pandas.ipynb",
   "provenance": []
  },
  "kernelspec": {
   "display_name": "Python 3 (ipykernel)",
   "language": "python",
   "name": "python3"
  },
  "language_info": {
   "codemirror_mode": {
    "name": "ipython",
    "version": 3
   },
   "file_extension": ".py",
   "mimetype": "text/x-python",
   "name": "python",
   "nbconvert_exporter": "python",
   "pygments_lexer": "ipython3",
   "version": "3.11.4"
  }
 },
 "nbformat": 4,
 "nbformat_minor": 4
}
